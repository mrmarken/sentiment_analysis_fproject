{
 "cells": [
  {
   "cell_type": "code",
   "execution_count": 1,
   "id": "ac8eb9bd",
   "metadata": {},
   "outputs": [],
   "source": [
    "# Import dependencies\n",
    "import re\n",
    "import pandas as pd\n",
    "import matplotlib.pyplot as plt\n",
    "import numpy as np"
   ]
  },
  {
   "cell_type": "code",
   "execution_count": 2,
   "id": "382ef75e",
   "metadata": {},
   "outputs": [],
   "source": [
    "from sklearn.model_selection import train_test_split\n",
    "from sklearn.feature_extraction.text import TfidfVectorizer\n",
    "from sklearn.svm import LinearSVC\n",
    "from sklearn.naive_bayes import BernoulliNB\n",
    "from sklearn.linear_model import LogisticRegression\n",
    "from sklearn.ensemble import AdaBoostClassifier"
   ]
  },
  {
   "cell_type": "code",
   "execution_count": 3,
   "id": "ae734f4b",
   "metadata": {},
   "outputs": [
    {
     "data": {
      "text/html": [
       "<div>\n",
       "<style scoped>\n",
       "    .dataframe tbody tr th:only-of-type {\n",
       "        vertical-align: middle;\n",
       "    }\n",
       "\n",
       "    .dataframe tbody tr th {\n",
       "        vertical-align: top;\n",
       "    }\n",
       "\n",
       "    .dataframe thead th {\n",
       "        text-align: right;\n",
       "    }\n",
       "</style>\n",
       "<table border=\"1\" class=\"dataframe\">\n",
       "  <thead>\n",
       "    <tr style=\"text-align: right;\">\n",
       "      <th></th>\n",
       "      <th>Unnamed: 0</th>\n",
       "      <th>tweet_id</th>\n",
       "      <th>full_text</th>\n",
       "      <th>sentiment</th>\n",
       "    </tr>\n",
       "  </thead>\n",
       "  <tbody>\n",
       "    <tr>\n",
       "      <th>0</th>\n",
       "      <td>0</td>\n",
       "      <td>1.587817e+18</td>\n",
       "      <td>@twk_5 @davidhogg111 Good question. The guns a...</td>\n",
       "      <td>anti-gun</td>\n",
       "    </tr>\n",
       "    <tr>\n",
       "      <th>1</th>\n",
       "      <td>1</td>\n",
       "      <td>1.587817e+18</td>\n",
       "      <td>@NikaOneDay @thegreatunkn @obiwill_kenobi @Tul...</td>\n",
       "      <td>anti-gun</td>\n",
       "    </tr>\n",
       "    <tr>\n",
       "      <th>2</th>\n",
       "      <td>2</td>\n",
       "      <td>1.587817e+18</td>\n",
       "      <td>Just…read this. \\nhttps://t.co/TfKqT2nNZI\\n\\n@...</td>\n",
       "      <td>anti-gun</td>\n",
       "    </tr>\n",
       "    <tr>\n",
       "      <th>3</th>\n",
       "      <td>3</td>\n",
       "      <td>1.587817e+18</td>\n",
       "      <td>i just won’t be celebrating gun violence killi...</td>\n",
       "      <td>anti-gun</td>\n",
       "    </tr>\n",
       "    <tr>\n",
       "      <th>4</th>\n",
       "      <td>4</td>\n",
       "      <td>1.587817e+18</td>\n",
       "      <td>mixed feelings about someone who is a r4pist g...</td>\n",
       "      <td>anti-gun</td>\n",
       "    </tr>\n",
       "    <tr>\n",
       "      <th>...</th>\n",
       "      <td>...</td>\n",
       "      <td>...</td>\n",
       "      <td>...</td>\n",
       "      <td>...</td>\n",
       "    </tr>\n",
       "    <tr>\n",
       "      <th>995</th>\n",
       "      <td>995</td>\n",
       "      <td>1.590000e+18</td>\n",
       "      <td>@cbssaturday I am Dr. Floyd Jones, https://t.c...</td>\n",
       "      <td>neutral</td>\n",
       "    </tr>\n",
       "    <tr>\n",
       "      <th>996</th>\n",
       "      <td>996</td>\n",
       "      <td>1.590000e+18</td>\n",
       "      <td>Future artist Tray Tray video shoot shot up in...</td>\n",
       "      <td>neutral</td>\n",
       "    </tr>\n",
       "    <tr>\n",
       "      <th>997</th>\n",
       "      <td>997</td>\n",
       "      <td>1.590000e+18</td>\n",
       "      <td>Manhunt suspect in quadruple Aurora shooting t...</td>\n",
       "      <td>neutral</td>\n",
       "    </tr>\n",
       "    <tr>\n",
       "      <th>998</th>\n",
       "      <td>998</td>\n",
       "      <td>1.590000e+18</td>\n",
       "      <td>@LogicIsLeaving @phike9391 @TMZ no, i don‚Äôt....</td>\n",
       "      <td>neutral</td>\n",
       "    </tr>\n",
       "    <tr>\n",
       "      <th>999</th>\n",
       "      <td>999</td>\n",
       "      <td>1.590000e+18</td>\n",
       "      <td>No one is safe from gun violence\\n#TakeOff \\n#...</td>\n",
       "      <td>neutral</td>\n",
       "    </tr>\n",
       "  </tbody>\n",
       "</table>\n",
       "<p>1000 rows × 4 columns</p>\n",
       "</div>"
      ],
      "text/plain": [
       "     Unnamed: 0      tweet_id  \\\n",
       "0             0  1.587817e+18   \n",
       "1             1  1.587817e+18   \n",
       "2             2  1.587817e+18   \n",
       "3             3  1.587817e+18   \n",
       "4             4  1.587817e+18   \n",
       "..          ...           ...   \n",
       "995         995  1.590000e+18   \n",
       "996         996  1.590000e+18   \n",
       "997         997  1.590000e+18   \n",
       "998         998  1.590000e+18   \n",
       "999         999  1.590000e+18   \n",
       "\n",
       "                                             full_text sentiment  \n",
       "0    @twk_5 @davidhogg111 Good question. The guns a...  anti-gun  \n",
       "1    @NikaOneDay @thegreatunkn @obiwill_kenobi @Tul...  anti-gun  \n",
       "2    Just…read this. \\nhttps://t.co/TfKqT2nNZI\\n\\n@...  anti-gun  \n",
       "3    i just won’t be celebrating gun violence killi...  anti-gun  \n",
       "4    mixed feelings about someone who is a r4pist g...  anti-gun  \n",
       "..                                                 ...       ...  \n",
       "995  @cbssaturday I am Dr. Floyd Jones, https://t.c...   neutral  \n",
       "996  Future artist Tray Tray video shoot shot up in...   neutral  \n",
       "997  Manhunt suspect in quadruple Aurora shooting t...   neutral  \n",
       "998  @LogicIsLeaving @phike9391 @TMZ no, i don‚Äôt....   neutral  \n",
       "999  No one is safe from gun violence\\n#TakeOff \\n#...   neutral  \n",
       "\n",
       "[1000 rows x 4 columns]"
      ]
     },
     "execution_count": 3,
     "metadata": {},
     "output_type": "execute_result"
    }
   ],
   "source": [
    "# Importing the test database\n",
    "twitter_df = pd.read_csv(\"../res/final_training_dataset.csv\")\n",
    "twitter_df"
   ]
  },
  {
   "cell_type": "code",
   "execution_count": 4,
   "id": "ccbd7fba",
   "metadata": {},
   "outputs": [],
   "source": [
    "# Function to clean the database\n",
    "def preprocess_tweet(tweet):\n",
    "    '''Cleans text data up, leaving only 2 or more char long non-stepwords composed of A-Z & a-z only\n",
    "    in lowercase'''\n",
    "    \n",
    "    tweet = tweet.lower()\n",
    "\n",
    "    # Remove special characters\n",
    "    tweet = re.sub(\"(@[A-Za-z0-9]+)|([^0-9A-Za-z \\t])|(\\w+:\\/\\/\\S+)\",\" \", tweet)\n",
    "    \n",
    "    # Remove repeating character\n",
    "    tweet = re.sub(r'(.)1+', r'1', tweet)\n",
    "\n",
    "    # Single character removal\n",
    "    tweet = re.sub(r\"\\s+[a-zA-Z]\\s+\", ' ', tweet)  # When we remove apostrophe from the word \"Mark's\", the apostrophe is replaced by an empty space. Hence, we are left with single character \"s\" that we are removing here.\n",
    "\n",
    "    # Remove multiple spaces\n",
    "    tweet = re.sub(r'\\s+', ' ', tweet)  # Next, we remove all the single characters and replace it by a space which creates multiple spaces in our text. Finally, we remove the multiple spaces from our text as well.\n",
    "\n",
    "    # Remove URL's\n",
    "    tweet = re.sub('((www.[^s]+)|(https?://[^s]+))',' ',tweet)\n",
    "    \n",
    "    #Replace 2a|2nd amendment to second amendment\n",
    "    tweet = re.sub(\"2a|2nd\\samendment|2nd\", 'second amendment', tweet)\n",
    "    \n",
    "    # Remove numbers\n",
    "    tweet = re.sub('[0-9]+', '', tweet)\n",
    "    \n",
    "    return tweet"
   ]
  },
  {
   "cell_type": "code",
   "execution_count": 5,
   "id": "bfb247c6",
   "metadata": {},
   "outputs": [
    {
     "data": {
      "text/html": [
       "<div>\n",
       "<style scoped>\n",
       "    .dataframe tbody tr th:only-of-type {\n",
       "        vertical-align: middle;\n",
       "    }\n",
       "\n",
       "    .dataframe tbody tr th {\n",
       "        vertical-align: top;\n",
       "    }\n",
       "\n",
       "    .dataframe thead th {\n",
       "        text-align: right;\n",
       "    }\n",
       "</style>\n",
       "<table border=\"1\" class=\"dataframe\">\n",
       "  <thead>\n",
       "    <tr style=\"text-align: right;\">\n",
       "      <th></th>\n",
       "      <th>Unnamed: 0</th>\n",
       "      <th>tweet_id</th>\n",
       "      <th>full_text</th>\n",
       "      <th>sentiment</th>\n",
       "      <th>cleaned</th>\n",
       "    </tr>\n",
       "  </thead>\n",
       "  <tbody>\n",
       "    <tr>\n",
       "      <th>0</th>\n",
       "      <td>0</td>\n",
       "      <td>1.587817e+18</td>\n",
       "      <td>@twk_5 @davidhogg111 Good question. The guns a...</td>\n",
       "      <td>anti-gun</td>\n",
       "      <td>good question the guns and rifles you used w...</td>\n",
       "    </tr>\n",
       "    <tr>\n",
       "      <th>1</th>\n",
       "      <td>1</td>\n",
       "      <td>1.587817e+18</td>\n",
       "      <td>@NikaOneDay @thegreatunkn @obiwill_kenobi @Tul...</td>\n",
       "      <td>anti-gun</td>\n",
       "      <td>kenobi personally d rather have time machine ...</td>\n",
       "    </tr>\n",
       "    <tr>\n",
       "      <th>2</th>\n",
       "      <td>2</td>\n",
       "      <td>1.587817e+18</td>\n",
       "      <td>Just…read this. \\nhttps://t.co/TfKqT2nNZI\\n\\n@...</td>\n",
       "      <td>anti-gun</td>\n",
       "      <td>just read this on the murder of isabella thall...</td>\n",
       "    </tr>\n",
       "    <tr>\n",
       "      <th>3</th>\n",
       "      <td>3</td>\n",
       "      <td>1.587817e+18</td>\n",
       "      <td>i just won’t be celebrating gun violence killi...</td>\n",
       "      <td>anti-gun</td>\n",
       "      <td>i just won be celebrating gun violence killing...</td>\n",
       "    </tr>\n",
       "    <tr>\n",
       "      <th>4</th>\n",
       "      <td>4</td>\n",
       "      <td>1.587817e+18</td>\n",
       "      <td>mixed feelings about someone who is a r4pist g...</td>\n",
       "      <td>anti-gun</td>\n",
       "      <td>mixed feelings about someone who is rpist gett...</td>\n",
       "    </tr>\n",
       "    <tr>\n",
       "      <th>5</th>\n",
       "      <td>5</td>\n",
       "      <td>1.587817e+18</td>\n",
       "      <td>@MuricanTechy @kellydoddchula @MisogynyManaged...</td>\n",
       "      <td>anti-gun</td>\n",
       "      <td>stakkz in fact we are but until we finish how...</td>\n",
       "    </tr>\n",
       "    <tr>\n",
       "      <th>6</th>\n",
       "      <td>6</td>\n",
       "      <td>1.587817e+18</td>\n",
       "      <td>@TomCottonAR Are you suggesting more guns like...</td>\n",
       "      <td>anti-gun</td>\n",
       "      <td>are you suggesting more guns like your collea...</td>\n",
       "    </tr>\n",
       "    <tr>\n",
       "      <th>7</th>\n",
       "      <td>7</td>\n",
       "      <td>1.587817e+18</td>\n",
       "      <td>@GhostofTST Disagreed! You can have sensible g...</td>\n",
       "      <td>anti-gun</td>\n",
       "      <td>disagreed you can have sensible gun laws or y...</td>\n",
       "    </tr>\n",
       "    <tr>\n",
       "      <th>8</th>\n",
       "      <td>8</td>\n",
       "      <td>1.587817e+18</td>\n",
       "      <td>@AbbottCampaign @GregAbbott_TX Right.  Instead...</td>\n",
       "      <td>anti-gun</td>\n",
       "      <td>tx right instead tx will let you freeze keep ...</td>\n",
       "    </tr>\n",
       "    <tr>\n",
       "      <th>9</th>\n",
       "      <td>9</td>\n",
       "      <td>1.587817e+18</td>\n",
       "      <td>Rest in Power, Takeoff. \\n\\nSo sad to see anot...</td>\n",
       "      <td>anti-gun</td>\n",
       "      <td>rest in power takeoff so sad to see another vi...</td>\n",
       "    </tr>\n",
       "  </tbody>\n",
       "</table>\n",
       "</div>"
      ],
      "text/plain": [
       "   Unnamed: 0      tweet_id  \\\n",
       "0           0  1.587817e+18   \n",
       "1           1  1.587817e+18   \n",
       "2           2  1.587817e+18   \n",
       "3           3  1.587817e+18   \n",
       "4           4  1.587817e+18   \n",
       "5           5  1.587817e+18   \n",
       "6           6  1.587817e+18   \n",
       "7           7  1.587817e+18   \n",
       "8           8  1.587817e+18   \n",
       "9           9  1.587817e+18   \n",
       "\n",
       "                                           full_text sentiment  \\\n",
       "0  @twk_5 @davidhogg111 Good question. The guns a...  anti-gun   \n",
       "1  @NikaOneDay @thegreatunkn @obiwill_kenobi @Tul...  anti-gun   \n",
       "2  Just…read this. \\nhttps://t.co/TfKqT2nNZI\\n\\n@...  anti-gun   \n",
       "3  i just won’t be celebrating gun violence killi...  anti-gun   \n",
       "4  mixed feelings about someone who is a r4pist g...  anti-gun   \n",
       "5  @MuricanTechy @kellydoddchula @MisogynyManaged...  anti-gun   \n",
       "6  @TomCottonAR Are you suggesting more guns like...  anti-gun   \n",
       "7  @GhostofTST Disagreed! You can have sensible g...  anti-gun   \n",
       "8  @AbbottCampaign @GregAbbott_TX Right.  Instead...  anti-gun   \n",
       "9  Rest in Power, Takeoff. \\n\\nSo sad to see anot...  anti-gun   \n",
       "\n",
       "                                             cleaned  \n",
       "0    good question the guns and rifles you used w...  \n",
       "1   kenobi personally d rather have time machine ...  \n",
       "2  just read this on the murder of isabella thall...  \n",
       "3  i just won be celebrating gun violence killing...  \n",
       "4  mixed feelings about someone who is rpist gett...  \n",
       "5   stakkz in fact we are but until we finish how...  \n",
       "6   are you suggesting more guns like your collea...  \n",
       "7   disagreed you can have sensible gun laws or y...  \n",
       "8   tx right instead tx will let you freeze keep ...  \n",
       "9  rest in power takeoff so sad to see another vi...  "
      ]
     },
     "execution_count": 5,
     "metadata": {},
     "output_type": "execute_result"
    }
   ],
   "source": [
    "# Save cleaned tweets in new cleaned column\n",
    "cleaned_tweets = []\n",
    "\n",
    "for tweet in twitter_df['full_text']:\n",
    "  cleaned_tweet = preprocess_tweet(tweet)\n",
    "  cleaned_tweets.append(cleaned_tweet)\n",
    "\n",
    "twitter_df['cleaned'] = pd.DataFrame(cleaned_tweets)\n",
    "twitter_df.head(10)"
   ]
  },
  {
   "cell_type": "code",
   "execution_count": 6,
   "id": "f7c42542",
   "metadata": {},
   "outputs": [
    {
     "data": {
      "text/html": [
       "<div>\n",
       "<style scoped>\n",
       "    .dataframe tbody tr th:only-of-type {\n",
       "        vertical-align: middle;\n",
       "    }\n",
       "\n",
       "    .dataframe tbody tr th {\n",
       "        vertical-align: top;\n",
       "    }\n",
       "\n",
       "    .dataframe thead th {\n",
       "        text-align: right;\n",
       "    }\n",
       "</style>\n",
       "<table border=\"1\" class=\"dataframe\">\n",
       "  <thead>\n",
       "    <tr style=\"text-align: right;\">\n",
       "      <th></th>\n",
       "      <th>sentiment</th>\n",
       "      <th>cleaned</th>\n",
       "    </tr>\n",
       "  </thead>\n",
       "  <tbody>\n",
       "    <tr>\n",
       "      <th>0</th>\n",
       "      <td>anti-gun</td>\n",
       "      <td>good question the guns and rifles you used w...</td>\n",
       "    </tr>\n",
       "    <tr>\n",
       "      <th>1</th>\n",
       "      <td>anti-gun</td>\n",
       "      <td>kenobi personally d rather have time machine ...</td>\n",
       "    </tr>\n",
       "    <tr>\n",
       "      <th>2</th>\n",
       "      <td>anti-gun</td>\n",
       "      <td>just read this on the murder of isabella thall...</td>\n",
       "    </tr>\n",
       "    <tr>\n",
       "      <th>3</th>\n",
       "      <td>anti-gun</td>\n",
       "      <td>i just won be celebrating gun violence killing...</td>\n",
       "    </tr>\n",
       "    <tr>\n",
       "      <th>4</th>\n",
       "      <td>anti-gun</td>\n",
       "      <td>mixed feelings about someone who is rpist gett...</td>\n",
       "    </tr>\n",
       "    <tr>\n",
       "      <th>...</th>\n",
       "      <td>...</td>\n",
       "      <td>...</td>\n",
       "    </tr>\n",
       "    <tr>\n",
       "      <th>995</th>\n",
       "      <td>neutral</td>\n",
       "      <td>am dr floyd jones saw chad lawson on the satu...</td>\n",
       "    </tr>\n",
       "    <tr>\n",
       "      <th>996</th>\n",
       "      <td>neutral</td>\n",
       "      <td>future artist tray tray video shoot shot up in...</td>\n",
       "    </tr>\n",
       "    <tr>\n",
       "      <th>997</th>\n",
       "      <td>neutral</td>\n",
       "      <td>manhunt suspect in quadruple aurora shooting t...</td>\n",
       "    </tr>\n",
       "    <tr>\n",
       "      <th>998</th>\n",
       "      <td>neutral</td>\n",
       "      <td>no don i wish could stop all gun violence tbh...</td>\n",
       "    </tr>\n",
       "    <tr>\n",
       "      <th>999</th>\n",
       "      <td>neutral</td>\n",
       "      <td>no one is safe from gun violence takeoff takeo...</td>\n",
       "    </tr>\n",
       "  </tbody>\n",
       "</table>\n",
       "<p>1000 rows × 2 columns</p>\n",
       "</div>"
      ],
      "text/plain": [
       "    sentiment                                            cleaned\n",
       "0    anti-gun    good question the guns and rifles you used w...\n",
       "1    anti-gun   kenobi personally d rather have time machine ...\n",
       "2    anti-gun  just read this on the murder of isabella thall...\n",
       "3    anti-gun  i just won be celebrating gun violence killing...\n",
       "4    anti-gun  mixed feelings about someone who is rpist gett...\n",
       "..        ...                                                ...\n",
       "995   neutral   am dr floyd jones saw chad lawson on the satu...\n",
       "996   neutral  future artist tray tray video shoot shot up in...\n",
       "997   neutral  manhunt suspect in quadruple aurora shooting t...\n",
       "998   neutral   no don i wish could stop all gun violence tbh...\n",
       "999   neutral  no one is safe from gun violence takeoff takeo...\n",
       "\n",
       "[1000 rows x 2 columns]"
      ]
     },
     "execution_count": 6,
     "metadata": {},
     "output_type": "execute_result"
    }
   ],
   "source": [
    "# Drop column text\n",
    "twitter_df = twitter_df.drop(['Unnamed: 0','tweet_id', 'full_text'], axis=1)\n",
    "twitter_df"
   ]
  },
  {
   "cell_type": "code",
   "execution_count": 7,
   "id": "67174ccc",
   "metadata": {},
   "outputs": [
    {
     "data": {
      "text/plain": [
       "Int64Index([200, 201, 202, 203, 204, 205, 206, 207, 208, 209,\n",
       "            ...\n",
       "            990, 991, 992, 993, 994, 995, 996, 997, 998, 999],\n",
       "           dtype='int64', length=200)"
      ]
     },
     "execution_count": 7,
     "metadata": {},
     "output_type": "execute_result"
    }
   ],
   "source": [
    "neutral_df = twitter_df[(twitter_df['sentiment'] == 'neutral')].index\n",
    "neutral_df"
   ]
  },
  {
   "cell_type": "code",
   "execution_count": 8,
   "id": "ab5c2de5",
   "metadata": {},
   "outputs": [
    {
     "data": {
      "text/html": [
       "<div>\n",
       "<style scoped>\n",
       "    .dataframe tbody tr th:only-of-type {\n",
       "        vertical-align: middle;\n",
       "    }\n",
       "\n",
       "    .dataframe tbody tr th {\n",
       "        vertical-align: top;\n",
       "    }\n",
       "\n",
       "    .dataframe thead th {\n",
       "        text-align: right;\n",
       "    }\n",
       "</style>\n",
       "<table border=\"1\" class=\"dataframe\">\n",
       "  <thead>\n",
       "    <tr style=\"text-align: right;\">\n",
       "      <th></th>\n",
       "      <th>sentiment</th>\n",
       "      <th>cleaned</th>\n",
       "    </tr>\n",
       "  </thead>\n",
       "  <tbody>\n",
       "    <tr>\n",
       "      <th>0</th>\n",
       "      <td>anti-gun</td>\n",
       "      <td>good question the guns and rifles you used w...</td>\n",
       "    </tr>\n",
       "    <tr>\n",
       "      <th>1</th>\n",
       "      <td>anti-gun</td>\n",
       "      <td>kenobi personally d rather have time machine ...</td>\n",
       "    </tr>\n",
       "    <tr>\n",
       "      <th>2</th>\n",
       "      <td>anti-gun</td>\n",
       "      <td>just read this on the murder of isabella thall...</td>\n",
       "    </tr>\n",
       "    <tr>\n",
       "      <th>3</th>\n",
       "      <td>anti-gun</td>\n",
       "      <td>i just won be celebrating gun violence killing...</td>\n",
       "    </tr>\n",
       "    <tr>\n",
       "      <th>4</th>\n",
       "      <td>anti-gun</td>\n",
       "      <td>mixed feelings about someone who is rpist gett...</td>\n",
       "    </tr>\n",
       "    <tr>\n",
       "      <th>...</th>\n",
       "      <td>...</td>\n",
       "      <td>...</td>\n",
       "    </tr>\n",
       "    <tr>\n",
       "      <th>945</th>\n",
       "      <td>pro-gun</td>\n",
       "      <td>followed all rules of gun safety was in liter...</td>\n",
       "    </tr>\n",
       "    <tr>\n",
       "      <th>946</th>\n",
       "      <td>pro-gun</td>\n",
       "      <td>the right to bear arms is actually in the con...</td>\n",
       "    </tr>\n",
       "    <tr>\n",
       "      <th>947</th>\n",
       "      <td>pro-gun</td>\n",
       "      <td>debunking joe biden anti gun conversation with...</td>\n",
       "    </tr>\n",
       "    <tr>\n",
       "      <th>948</th>\n",
       "      <td>pro-gun</td>\n",
       "      <td>madison argued that state militias would be a...</td>\n",
       "    </tr>\n",
       "    <tr>\n",
       "      <th>949</th>\n",
       "      <td>pro-gun</td>\n",
       "      <td>there are over  million firearms in worldwide ...</td>\n",
       "    </tr>\n",
       "  </tbody>\n",
       "</table>\n",
       "<p>800 rows × 2 columns</p>\n",
       "</div>"
      ],
      "text/plain": [
       "    sentiment                                            cleaned\n",
       "0    anti-gun    good question the guns and rifles you used w...\n",
       "1    anti-gun   kenobi personally d rather have time machine ...\n",
       "2    anti-gun  just read this on the murder of isabella thall...\n",
       "3    anti-gun  i just won be celebrating gun violence killing...\n",
       "4    anti-gun  mixed feelings about someone who is rpist gett...\n",
       "..        ...                                                ...\n",
       "945   pro-gun   followed all rules of gun safety was in liter...\n",
       "946   pro-gun   the right to bear arms is actually in the con...\n",
       "947   pro-gun  debunking joe biden anti gun conversation with...\n",
       "948   pro-gun   madison argued that state militias would be a...\n",
       "949   pro-gun  there are over  million firearms in worldwide ...\n",
       "\n",
       "[800 rows x 2 columns]"
      ]
     },
     "execution_count": 8,
     "metadata": {},
     "output_type": "execute_result"
    }
   ],
   "source": [
    "twitter_df.drop(neutral_df, inplace=True)\n",
    "twitter_df"
   ]
  },
  {
   "cell_type": "code",
   "execution_count": 9,
   "id": "a01cf283",
   "metadata": {},
   "outputs": [
    {
     "name": "stderr",
     "output_type": "stream",
     "text": [
      "[nltk_data] Downloading package stopwords to\n",
      "[nltk_data]     /Users/keertichaudhary/nltk_data...\n",
      "[nltk_data]   Package stopwords is already up-to-date!\n"
     ]
    }
   ],
   "source": [
    "# Remove stopwords\n",
    "import nltk\n",
    "nltk.download('stopwords')\n",
    "stopwordlist = nltk.corpus.stopwords.words('english')"
   ]
  },
  {
   "cell_type": "code",
   "execution_count": 10,
   "id": "35c972c8",
   "metadata": {},
   "outputs": [
    {
     "data": {
      "text/html": [
       "<div>\n",
       "<style scoped>\n",
       "    .dataframe tbody tr th:only-of-type {\n",
       "        vertical-align: middle;\n",
       "    }\n",
       "\n",
       "    .dataframe tbody tr th {\n",
       "        vertical-align: top;\n",
       "    }\n",
       "\n",
       "    .dataframe thead th {\n",
       "        text-align: right;\n",
       "    }\n",
       "</style>\n",
       "<table border=\"1\" class=\"dataframe\">\n",
       "  <thead>\n",
       "    <tr style=\"text-align: right;\">\n",
       "      <th></th>\n",
       "      <th>sentiment</th>\n",
       "      <th>cleaned</th>\n",
       "    </tr>\n",
       "  </thead>\n",
       "  <tbody>\n",
       "    <tr>\n",
       "      <th>0</th>\n",
       "      <td>anti-gun</td>\n",
       "      <td>good question guns rifles used assault weapons...</td>\n",
       "    </tr>\n",
       "    <tr>\n",
       "      <th>1</th>\n",
       "      <td>anti-gun</td>\n",
       "      <td>kenobi personally rather time machine could go...</td>\n",
       "    </tr>\n",
       "    <tr>\n",
       "      <th>2</th>\n",
       "      <td>anti-gun</td>\n",
       "      <td>read murder isabella thallas denver mundanity ...</td>\n",
       "    </tr>\n",
       "    <tr>\n",
       "      <th>3</th>\n",
       "      <td>anti-gun</td>\n",
       "      <td>celebrating gun violence killing black folks e...</td>\n",
       "    </tr>\n",
       "    <tr>\n",
       "      <th>4</th>\n",
       "      <td>anti-gun</td>\n",
       "      <td>mixed feelings someone rpist getting murdered ...</td>\n",
       "    </tr>\n",
       "  </tbody>\n",
       "</table>\n",
       "</div>"
      ],
      "text/plain": [
       "  sentiment                                            cleaned\n",
       "0  anti-gun  good question guns rifles used assault weapons...\n",
       "1  anti-gun  kenobi personally rather time machine could go...\n",
       "2  anti-gun  read murder isabella thallas denver mundanity ...\n",
       "3  anti-gun  celebrating gun violence killing black folks e...\n",
       "4  anti-gun  mixed feelings someone rpist getting murdered ..."
      ]
     },
     "execution_count": 10,
     "metadata": {},
     "output_type": "execute_result"
    }
   ],
   "source": [
    "# Cleaning and removing the above stop words list from the tweet text\n",
    "STOPWORDS = set(stopwordlist)\n",
    "def cleaning_stopwords(text):\n",
    "    return \" \".join([word for word in str(text).split() if word not in STOPWORDS])\n",
    "twitter_df['cleaned'] = twitter_df['cleaned'].apply(lambda text: cleaning_stopwords(text))\n",
    "twitter_df.head()"
   ]
  },
  {
   "cell_type": "code",
   "execution_count": 11,
   "id": "eacca80b",
   "metadata": {},
   "outputs": [
    {
     "data": {
      "text/html": [
       "<div>\n",
       "<style scoped>\n",
       "    .dataframe tbody tr th:only-of-type {\n",
       "        vertical-align: middle;\n",
       "    }\n",
       "\n",
       "    .dataframe tbody tr th {\n",
       "        vertical-align: top;\n",
       "    }\n",
       "\n",
       "    .dataframe thead th {\n",
       "        text-align: right;\n",
       "    }\n",
       "</style>\n",
       "<table border=\"1\" class=\"dataframe\">\n",
       "  <thead>\n",
       "    <tr style=\"text-align: right;\">\n",
       "      <th></th>\n",
       "      <th>sentiment</th>\n",
       "      <th>cleaned</th>\n",
       "    </tr>\n",
       "  </thead>\n",
       "  <tbody>\n",
       "    <tr>\n",
       "      <th>0</th>\n",
       "      <td>anti-gun</td>\n",
       "      <td>[good, question, guns, rifles, used, assault, ...</td>\n",
       "    </tr>\n",
       "    <tr>\n",
       "      <th>1</th>\n",
       "      <td>anti-gun</td>\n",
       "      <td>[kenobi, personally, rather, time, machine, co...</td>\n",
       "    </tr>\n",
       "    <tr>\n",
       "      <th>2</th>\n",
       "      <td>anti-gun</td>\n",
       "      <td>[read, murder, isabella, thallas, denver, mund...</td>\n",
       "    </tr>\n",
       "    <tr>\n",
       "      <th>3</th>\n",
       "      <td>anti-gun</td>\n",
       "      <td>[celebrating, gun, violence, killing, black, f...</td>\n",
       "    </tr>\n",
       "    <tr>\n",
       "      <th>4</th>\n",
       "      <td>anti-gun</td>\n",
       "      <td>[mixed, feelings, someone, rpist, getting, mur...</td>\n",
       "    </tr>\n",
       "  </tbody>\n",
       "</table>\n",
       "</div>"
      ],
      "text/plain": [
       "  sentiment                                            cleaned\n",
       "0  anti-gun  [good, question, guns, rifles, used, assault, ...\n",
       "1  anti-gun  [kenobi, personally, rather, time, machine, co...\n",
       "2  anti-gun  [read, murder, isabella, thallas, denver, mund...\n",
       "3  anti-gun  [celebrating, gun, violence, killing, black, f...\n",
       "4  anti-gun  [mixed, feelings, someone, rpist, getting, mur..."
      ]
     },
     "execution_count": 11,
     "metadata": {},
     "output_type": "execute_result"
    }
   ],
   "source": [
    "# Getting tokenization of tweet text\n",
    "from nltk.tokenize import RegexpTokenizer\n",
    "tokenizer = RegexpTokenizer(\"[\\w']+\")\n",
    "twitter_df['cleaned'] = twitter_df['cleaned'].apply(tokenizer.tokenize)\n",
    "twitter_df.head()"
   ]
  },
  {
   "cell_type": "code",
   "execution_count": 12,
   "id": "e9676ead",
   "metadata": {},
   "outputs": [
    {
     "data": {
      "text/html": [
       "<div>\n",
       "<style scoped>\n",
       "    .dataframe tbody tr th:only-of-type {\n",
       "        vertical-align: middle;\n",
       "    }\n",
       "\n",
       "    .dataframe tbody tr th {\n",
       "        vertical-align: top;\n",
       "    }\n",
       "\n",
       "    .dataframe thead th {\n",
       "        text-align: right;\n",
       "    }\n",
       "</style>\n",
       "<table border=\"1\" class=\"dataframe\">\n",
       "  <thead>\n",
       "    <tr style=\"text-align: right;\">\n",
       "      <th></th>\n",
       "      <th>sentiment</th>\n",
       "      <th>cleaned</th>\n",
       "    </tr>\n",
       "  </thead>\n",
       "  <tbody>\n",
       "    <tr>\n",
       "      <th>0</th>\n",
       "      <td>anti-gun</td>\n",
       "      <td>[good, question, guns, rifles, used, assault, ...</td>\n",
       "    </tr>\n",
       "    <tr>\n",
       "      <th>1</th>\n",
       "      <td>anti-gun</td>\n",
       "      <td>[kenobi, personally, rather, time, machine, co...</td>\n",
       "    </tr>\n",
       "    <tr>\n",
       "      <th>2</th>\n",
       "      <td>anti-gun</td>\n",
       "      <td>[read, murder, isabella, thallas, denver, mund...</td>\n",
       "    </tr>\n",
       "    <tr>\n",
       "      <th>3</th>\n",
       "      <td>anti-gun</td>\n",
       "      <td>[celebrating, gun, violence, killing, black, f...</td>\n",
       "    </tr>\n",
       "    <tr>\n",
       "      <th>4</th>\n",
       "      <td>anti-gun</td>\n",
       "      <td>[mixed, feelings, someone, rpist, getting, mur...</td>\n",
       "    </tr>\n",
       "  </tbody>\n",
       "</table>\n",
       "</div>"
      ],
      "text/plain": [
       "  sentiment                                            cleaned\n",
       "0  anti-gun  [good, question, guns, rifles, used, assault, ...\n",
       "1  anti-gun  [kenobi, personally, rather, time, machine, co...\n",
       "2  anti-gun  [read, murder, isabella, thallas, denver, mund...\n",
       "3  anti-gun  [celebrating, gun, violence, killing, black, f...\n",
       "4  anti-gun  [mixed, feelings, someone, rpist, getting, mur..."
      ]
     },
     "execution_count": 12,
     "metadata": {},
     "output_type": "execute_result"
    }
   ],
   "source": [
    "# Applying Stemming\n",
    "st = nltk.PorterStemmer()\n",
    "def stemming_on_text(data):\n",
    "    text = [st.stem(word) for word in data]\n",
    "    return data\n",
    "twitter_df['cleaned'] = twitter_df['cleaned'].apply(lambda x: stemming_on_text(x))\n",
    "twitter_df.head()"
   ]
  },
  {
   "cell_type": "code",
   "execution_count": 13,
   "id": "7519afc8",
   "metadata": {},
   "outputs": [
    {
     "data": {
      "text/html": [
       "<div>\n",
       "<style scoped>\n",
       "    .dataframe tbody tr th:only-of-type {\n",
       "        vertical-align: middle;\n",
       "    }\n",
       "\n",
       "    .dataframe tbody tr th {\n",
       "        vertical-align: top;\n",
       "    }\n",
       "\n",
       "    .dataframe thead th {\n",
       "        text-align: right;\n",
       "    }\n",
       "</style>\n",
       "<table border=\"1\" class=\"dataframe\">\n",
       "  <thead>\n",
       "    <tr style=\"text-align: right;\">\n",
       "      <th></th>\n",
       "      <th>sentiment</th>\n",
       "      <th>cleaned</th>\n",
       "    </tr>\n",
       "  </thead>\n",
       "  <tbody>\n",
       "    <tr>\n",
       "      <th>0</th>\n",
       "      <td>anti-gun</td>\n",
       "      <td>[good, question, guns, rifles, used, assault, ...</td>\n",
       "    </tr>\n",
       "    <tr>\n",
       "      <th>1</th>\n",
       "      <td>anti-gun</td>\n",
       "      <td>[kenobi, personally, rather, time, machine, co...</td>\n",
       "    </tr>\n",
       "    <tr>\n",
       "      <th>2</th>\n",
       "      <td>anti-gun</td>\n",
       "      <td>[read, murder, isabella, thallas, denver, mund...</td>\n",
       "    </tr>\n",
       "    <tr>\n",
       "      <th>3</th>\n",
       "      <td>anti-gun</td>\n",
       "      <td>[celebrating, gun, violence, killing, black, f...</td>\n",
       "    </tr>\n",
       "    <tr>\n",
       "      <th>4</th>\n",
       "      <td>anti-gun</td>\n",
       "      <td>[mixed, feelings, someone, rpist, getting, mur...</td>\n",
       "    </tr>\n",
       "  </tbody>\n",
       "</table>\n",
       "</div>"
      ],
      "text/plain": [
       "  sentiment                                            cleaned\n",
       "0  anti-gun  [good, question, guns, rifles, used, assault, ...\n",
       "1  anti-gun  [kenobi, personally, rather, time, machine, co...\n",
       "2  anti-gun  [read, murder, isabella, thallas, denver, mund...\n",
       "3  anti-gun  [celebrating, gun, violence, killing, black, f...\n",
       "4  anti-gun  [mixed, feelings, someone, rpist, getting, mur..."
      ]
     },
     "execution_count": 13,
     "metadata": {},
     "output_type": "execute_result"
    }
   ],
   "source": [
    "# Applying Lemmatizer\n",
    "lm = nltk.WordNetLemmatizer()\n",
    "def lemmatizer_on_text(data):\n",
    "    text = [lm.lemmatize(word) for word in data]\n",
    "    return data\n",
    "twitter_df['cleaned'] = twitter_df['cleaned'].apply(lambda x: lemmatizer_on_text(x))\n",
    "twitter_df.head()"
   ]
  },
  {
   "cell_type": "code",
   "execution_count": 14,
   "id": "c952b78b",
   "metadata": {},
   "outputs": [],
   "source": [
    "# Removing words with less frequency\n",
    "# filter function to select only the words with more than 10 counts and less than 800.\n",
    "import itertools\n",
    "flat_list = list(itertools.chain.from_iterable(twitter_df['cleaned']))\n",
    "\n",
    "fd = nltk.FreqDist(flat_list)\n",
    "word_to_keep = list(filter(lambda x: 800>x[1]>10, fd.items()))\n",
    "\n",
    "word_list_to_keep= [item[0] for item in word_to_keep]\n",
    "\n",
    "def remove_lessfreq(tokanized_tweets):\n",
    "    text_out = [word for word in tokanized_tweets if word in word_list_to_keep]\n",
    "    return text_out"
   ]
  },
  {
   "cell_type": "code",
   "execution_count": 15,
   "id": "11034d96",
   "metadata": {},
   "outputs": [
    {
     "data": {
      "text/html": [
       "<div>\n",
       "<style scoped>\n",
       "    .dataframe tbody tr th:only-of-type {\n",
       "        vertical-align: middle;\n",
       "    }\n",
       "\n",
       "    .dataframe tbody tr th {\n",
       "        vertical-align: top;\n",
       "    }\n",
       "\n",
       "    .dataframe thead th {\n",
       "        text-align: right;\n",
       "    }\n",
       "</style>\n",
       "<table border=\"1\" class=\"dataframe\">\n",
       "  <thead>\n",
       "    <tr style=\"text-align: right;\">\n",
       "      <th></th>\n",
       "      <th>sentiment</th>\n",
       "      <th>cleaned</th>\n",
       "    </tr>\n",
       "  </thead>\n",
       "  <tbody>\n",
       "    <tr>\n",
       "      <th>0</th>\n",
       "      <td>anti-gun</td>\n",
       "      <td>[good, guns, rifles, used, assault, weapons, p...</td>\n",
       "    </tr>\n",
       "    <tr>\n",
       "      <th>1</th>\n",
       "      <td>anti-gun</td>\n",
       "      <td>[time, could, go, prevent, guns, first, place,...</td>\n",
       "    </tr>\n",
       "    <tr>\n",
       "      <th>2</th>\n",
       "      <td>anti-gun</td>\n",
       "      <td>[murder, gun, violence, us]</td>\n",
       "    </tr>\n",
       "    <tr>\n",
       "      <th>3</th>\n",
       "      <td>anti-gun</td>\n",
       "      <td>[gun, violence, killing, black]</td>\n",
       "    </tr>\n",
       "    <tr>\n",
       "      <th>4</th>\n",
       "      <td>anti-gun</td>\n",
       "      <td>[someone, murdered, people, gun, violence, man...</td>\n",
       "    </tr>\n",
       "    <tr>\n",
       "      <th>...</th>\n",
       "      <td>...</td>\n",
       "      <td>...</td>\n",
       "    </tr>\n",
       "    <tr>\n",
       "      <th>945</th>\n",
       "      <td>pro-gun</td>\n",
       "      <td>[gun, safety]</td>\n",
       "    </tr>\n",
       "    <tr>\n",
       "      <th>946</th>\n",
       "      <td>pro-gun</td>\n",
       "      <td>[right, bear, arms, actually, constitution, se...</td>\n",
       "    </tr>\n",
       "    <tr>\n",
       "      <th>947</th>\n",
       "      <td>pro-gun</td>\n",
       "      <td>[joe, anti, gun, young, gun, control, joe, gun...</td>\n",
       "    </tr>\n",
       "    <tr>\n",
       "      <th>948</th>\n",
       "      <td>pro-gun</td>\n",
       "      <td>[state, would, second, amendment, sure, nothing]</td>\n",
       "    </tr>\n",
       "    <tr>\n",
       "      <th>949</th>\n",
       "      <td>pro-gun</td>\n",
       "      <td>[firearms, one, every, people, guns]</td>\n",
       "    </tr>\n",
       "  </tbody>\n",
       "</table>\n",
       "<p>800 rows × 2 columns</p>\n",
       "</div>"
      ],
      "text/plain": [
       "    sentiment                                            cleaned\n",
       "0    anti-gun  [good, guns, rifles, used, assault, weapons, p...\n",
       "1    anti-gun  [time, could, go, prevent, guns, first, place,...\n",
       "2    anti-gun                        [murder, gun, violence, us]\n",
       "3    anti-gun                    [gun, violence, killing, black]\n",
       "4    anti-gun  [someone, murdered, people, gun, violence, man...\n",
       "..        ...                                                ...\n",
       "945   pro-gun                                      [gun, safety]\n",
       "946   pro-gun  [right, bear, arms, actually, constitution, se...\n",
       "947   pro-gun  [joe, anti, gun, young, gun, control, joe, gun...\n",
       "948   pro-gun   [state, would, second, amendment, sure, nothing]\n",
       "949   pro-gun               [firearms, one, every, people, guns]\n",
       "\n",
       "[800 rows x 2 columns]"
      ]
     },
     "execution_count": 15,
     "metadata": {},
     "output_type": "execute_result"
    }
   ],
   "source": [
    "twitter_df['cleaned'] = twitter_df['cleaned'].apply(lambda x: remove_lessfreq(x))\n",
    "twitter_df"
   ]
  },
  {
   "cell_type": "code",
   "execution_count": 16,
   "id": "3cb6bfdb",
   "metadata": {},
   "outputs": [],
   "source": [
    "# Separating input feature and label\n",
    "X=twitter_df.cleaned\n",
    "y=twitter_df.sentiment"
   ]
  },
  {
   "cell_type": "code",
   "execution_count": 17,
   "id": "e8433aa1",
   "metadata": {},
   "outputs": [],
   "source": [
    "# Splitting our dataset into Train and Test Subset\n",
    "X_train, X_test, y_train, y_test = train_test_split(X, y, random_state=1)"
   ]
  },
  {
   "cell_type": "code",
   "execution_count": 18,
   "id": "a814d741",
   "metadata": {},
   "outputs": [
    {
     "data": {
      "text/plain": [
       "<600x332 sparse matrix of type '<class 'numpy.float64'>'\n",
       "\twith 5771 stored elements in Compressed Sparse Row format>"
      ]
     },
     "execution_count": 18,
     "metadata": {},
     "output_type": "execute_result"
    }
   ],
   "source": [
    "# Transforming Dataset using TF-IDF Vectorizer\n",
    "vectorizer = TfidfVectorizer(min_df = 5, ngram_range=(1,4))\n",
    "vectorizer.fit_transform(X_train.apply(lambda x: ' '.join(x)))\n",
    "\n",
    "\n",
    "# # Cleaning data in single line through passing clean_text in the CountVectorizer\n",
    "# from sklearn.feature_extraction.text import CountVectorizer\n",
    "\n",
    "# vectorizer = CountVectorizer(min_df = 5, ngram_range=(1,4)) \n",
    "# countVector = vectorizer.fit_transform(X_train.apply(lambda x: ' '.join(x)))\n",
    "# print(countVector.shape)"
   ]
  },
  {
   "cell_type": "code",
   "execution_count": 19,
   "id": "9f76d59a",
   "metadata": {},
   "outputs": [],
   "source": [
    "X_train = vectorizer.transform(X_train.apply(lambda x: ' '.join(x)))\n",
    "X_test  = vectorizer.transform(X_test.apply(lambda x: ' '.join(x)))"
   ]
  },
  {
   "cell_type": "markdown",
   "id": "ec5e1f57",
   "metadata": {},
   "source": [
    "## 1. Balanced Random Forest Classifier"
   ]
  },
  {
   "cell_type": "code",
   "execution_count": 20,
   "id": "24918a1a",
   "metadata": {},
   "outputs": [],
   "source": [
    "# Resample the training data with the BalancedRandomForestClassifier\n",
    "from imblearn.ensemble import BalancedRandomForestClassifier\n",
    "brf_model = BalancedRandomForestClassifier(n_estimators =130, random_state=1)\n",
    "brf_model.fit(X_train, y_train)\n",
    "y_pred = brf_model.predict(X_test)"
   ]
  },
  {
   "cell_type": "code",
   "execution_count": 21,
   "id": "4fcce367",
   "metadata": {},
   "outputs": [
    {
     "data": {
      "text/plain": [
       "0.7443473017787157"
      ]
     },
     "execution_count": 21,
     "metadata": {},
     "output_type": "execute_result"
    }
   ],
   "source": [
    "# Calculated the balanced accuracy score\n",
    "from sklearn.metrics import balanced_accuracy_score\n",
    "balanced_accuracy_score(y_test, y_pred)"
   ]
  },
  {
   "cell_type": "code",
   "execution_count": 22,
   "id": "cb7882c2",
   "metadata": {},
   "outputs": [
    {
     "name": "stdout",
     "output_type": "stream",
     "text": [
      "Classification Report\n",
      "              precision    recall  f1-score   support\n",
      "\n",
      "    anti-gun       0.69      0.81      0.74        93\n",
      "     pro-gun       0.80      0.68      0.74       107\n",
      "\n",
      "    accuracy                           0.74       200\n",
      "   macro avg       0.75      0.74      0.74       200\n",
      "weighted avg       0.75      0.74      0.74       200\n",
      "\n"
     ]
    }
   ],
   "source": [
    "from sklearn.metrics import balanced_accuracy_score, classification_report\n",
    "print(\"Classification Report\")\n",
    "print(classification_report(y_test, y_pred))"
   ]
  },
  {
   "cell_type": "markdown",
   "id": "eb0479b6",
   "metadata": {},
   "source": [
    "## 2. Easy Ensemble Classifier"
   ]
  },
  {
   "cell_type": "code",
   "execution_count": 23,
   "id": "18d67e82",
   "metadata": {},
   "outputs": [],
   "source": [
    "# Train the EasyEnsembleClassifier\n",
    "from imblearn.ensemble import EasyEnsembleClassifier \n",
    "eec_model = EasyEnsembleClassifier(n_estimators =50, random_state=1)\n",
    "eec_model.fit(X_train, y_train)\n",
    "y_pred2 = eec_model.predict(X_test)"
   ]
  },
  {
   "cell_type": "code",
   "execution_count": 24,
   "id": "c868bc3f",
   "metadata": {},
   "outputs": [
    {
     "data": {
      "text/plain": [
       "0.6859109637222389"
      ]
     },
     "execution_count": 24,
     "metadata": {},
     "output_type": "execute_result"
    }
   ],
   "source": [
    "# Calculated the balanced accuracy score\n",
    "from sklearn.metrics import balanced_accuracy_score\n",
    "balanced_accuracy_score(y_test, y_pred2)"
   ]
  },
  {
   "cell_type": "code",
   "execution_count": 25,
   "id": "80bcf6bf",
   "metadata": {},
   "outputs": [
    {
     "name": "stdout",
     "output_type": "stream",
     "text": [
      "Classification Report\n",
      "              precision    recall  f1-score   support\n",
      "\n",
      "    anti-gun       0.65      0.70      0.67        93\n",
      "     pro-gun       0.72      0.67      0.70       107\n",
      "\n",
      "    accuracy                           0.69       200\n",
      "   macro avg       0.69      0.69      0.68       200\n",
      "weighted avg       0.69      0.69      0.69       200\n",
      "\n"
     ]
    }
   ],
   "source": [
    "from sklearn.metrics import balanced_accuracy_score, classification_report\n",
    "print(\"Classification Report\")\n",
    "print(classification_report(y_test, y_pred2))"
   ]
  },
  {
   "cell_type": "markdown",
   "id": "94172b04",
   "metadata": {},
   "source": [
    "## 3. Bernoulli Naive Bayes"
   ]
  },
  {
   "cell_type": "code",
   "execution_count": 26,
   "id": "591422bf",
   "metadata": {},
   "outputs": [],
   "source": [
    "BNBmodel = BernoulliNB()\n",
    "BNBmodel.fit(X_train, y_train)\n",
    "y_pred3 = BNBmodel.predict(X_test)"
   ]
  },
  {
   "cell_type": "code",
   "execution_count": 27,
   "id": "b369aecc",
   "metadata": {},
   "outputs": [
    {
     "data": {
      "text/plain": [
       "0.7342980604964324"
      ]
     },
     "execution_count": 27,
     "metadata": {},
     "output_type": "execute_result"
    }
   ],
   "source": [
    "# Calculated the balanced accuracy score\n",
    "from sklearn.metrics import balanced_accuracy_score\n",
    "balanced_accuracy_score(y_test, y_pred3)"
   ]
  },
  {
   "cell_type": "code",
   "execution_count": 28,
   "id": "578bb639",
   "metadata": {},
   "outputs": [
    {
     "name": "stdout",
     "output_type": "stream",
     "text": [
      "Classification Report\n",
      "              precision    recall  f1-score   support\n",
      "\n",
      "    anti-gun       0.68      0.80      0.73        93\n",
      "     pro-gun       0.79      0.67      0.73       107\n",
      "\n",
      "    accuracy                           0.73       200\n",
      "   macro avg       0.74      0.73      0.73       200\n",
      "weighted avg       0.74      0.73      0.73       200\n",
      "\n"
     ]
    }
   ],
   "source": [
    "from sklearn.metrics import balanced_accuracy_score, classification_report\n",
    "print(\"Classification Report\")\n",
    "print(classification_report(y_test, y_pred3))"
   ]
  },
  {
   "cell_type": "markdown",
   "id": "84fa371e",
   "metadata": {},
   "source": [
    "## 5. Multinomial Naive Bayes"
   ]
  },
  {
   "cell_type": "code",
   "execution_count": 29,
   "id": "a51c1cb4",
   "metadata": {},
   "outputs": [],
   "source": [
    "from sklearn.naive_bayes import MultinomialNB\n",
    "\n",
    "# Instantiate a Multinomial Naive Bayes classifier: nb_classifier\n",
    "cnb_classifier = MultinomialNB()\n",
    "\n",
    "# Fit the classifier to the training data\n",
    "cnb_classifier.fit(X_train, y_train)\n",
    "y_pred5 = cnb_classifier.predict(X_test)"
   ]
  },
  {
   "cell_type": "code",
   "execution_count": 30,
   "id": "660451ef",
   "metadata": {},
   "outputs": [
    {
     "data": {
      "text/plain": [
       "0.6987739925635614"
      ]
     },
     "execution_count": 30,
     "metadata": {},
     "output_type": "execute_result"
    }
   ],
   "source": [
    "# Calculated the balanced accuracy score\n",
    "from sklearn.metrics import balanced_accuracy_score\n",
    "balanced_accuracy_score(y_test, y_pred5)"
   ]
  },
  {
   "cell_type": "code",
   "execution_count": 31,
   "id": "419f8ece",
   "metadata": {},
   "outputs": [
    {
     "name": "stdout",
     "output_type": "stream",
     "text": [
      "Classification Report\n",
      "              precision    recall  f1-score   support\n",
      "\n",
      "    anti-gun       0.65      0.75      0.70        93\n",
      "     pro-gun       0.75      0.64      0.69       107\n",
      "\n",
      "    accuracy                           0.69       200\n",
      "   macro avg       0.70      0.70      0.69       200\n",
      "weighted avg       0.70      0.69      0.69       200\n",
      "\n"
     ]
    }
   ],
   "source": [
    "from sklearn.metrics import balanced_accuracy_score, classification_report\n",
    "print(\"Classification Report\")\n",
    "print(classification_report(y_test, y_pred5))"
   ]
  }
 ],
 "metadata": {
  "kernelspec": {
   "display_name": "sentiment",
   "language": "python",
   "name": "sentiment"
  },
  "language_info": {
   "codemirror_mode": {
    "name": "ipython",
    "version": 3
   },
   "file_extension": ".py",
   "mimetype": "text/x-python",
   "name": "python",
   "nbconvert_exporter": "python",
   "pygments_lexer": "ipython3",
   "version": "3.9.13"
  }
 },
 "nbformat": 4,
 "nbformat_minor": 5
}
